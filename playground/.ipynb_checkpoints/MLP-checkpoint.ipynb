{
 "cells": [
  {
   "cell_type": "code",
   "execution_count": 1,
   "metadata": {},
   "outputs": [],
   "source": [
    "import flax\n",
    "import jax\n",
    "from jax import numpy as jnp"
   ]
  },
  {
   "cell_type": "code",
   "execution_count": 2,
   "metadata": {},
   "outputs": [
    {
     "name": "stdout",
     "output_type": "stream",
     "text": [
      "init1\n"
     ]
    },
    {
     "name": "stderr",
     "output_type": "stream",
     "text": [
      "/usr/local/lib/python3.7/site-packages/jax/lib/xla_bridge.py:122: UserWarning: No GPU/TPU found, falling back to CPU.\n",
      "  warnings.warn('No GPU/TPU found, falling back to CPU.')\n"
     ]
    },
    {
     "name": "stdout",
     "output_type": "stream",
     "text": [
      "{'MLP1_0': {'Dense_0': {'kernel': DeviceArray([[-1.3268638 , -0.5461965 ],\n",
      "             [ 0.2979461 , -0.37773502]], dtype=float32), 'bias': DeviceArray([0., 0.], dtype=float32)}, 'Dense_1': {'kernel': DeviceArray([[ 0.24666053,  1.0627729 ],\n",
      "             [-0.40784776, -0.2812568 ]], dtype=float32), 'bias': DeviceArray([0., 0.], dtype=float32)}}}\n",
      "\n",
      "init2\n",
      "{'MLP2_0': {'dense1': {'kernel': DeviceArray([[ 0.5763773 , -0.61012596],\n",
      "             [ 0.5862952 , -0.9003469 ]], dtype=float32), 'bias': DeviceArray([0., 0.], dtype=float32)}, 'dense2': {'kernel': DeviceArray([[ 0.63330156, -0.15881926],\n",
      "             [ 0.03472307, -1.1233721 ]], dtype=float32), 'bias': DeviceArray([0., 0.], dtype=float32)}}}\n",
      "\n"
     ]
    }
   ],
   "source": [
    "from flax import nn\n",
    "\n",
    "# TODO: Add ModuleMeta for wrapping with `nn.method`?\n",
    "\n",
    "class MLP1(nn.Module):\n",
    "  @nn.method\n",
    "  def __call__(self, x):\n",
    "    x = nn.Dense(features=2)(x)\n",
    "    x = nn.relu(x)\n",
    "    x = nn.Dense(features=2)(x)\n",
    "    return x\n",
    "\n",
    "class MLP2(nn.Module):\n",
    "  @nn.method\n",
    "  def __init__(self):\n",
    "    self.dense1 = nn.Dense(features=2, name=\"dense1\")\n",
    "    self.dense2 = nn.Dense(features=2, name=\"dense2\")\n",
    "\n",
    "  @nn.method\n",
    "  def __call__(self, x):\n",
    "    x = self.dense1(x)\n",
    "    x = nn.relu(x)\n",
    "    x = self.dense2(x)\n",
    "    return x\n",
    "\n",
    "\n",
    "def mlp3(x):\n",
    "  x = nn.Dense(features=2)(x)\n",
    "  x = nn.relu(x)\n",
    "  x = nn.Dense(features=2)(x)\n",
    "  return x\n",
    "\n",
    "print(\"init1\")\n",
    "print(nn.init(lambda x: MLP1()(x), jax.random.PRNGKey(0), jnp.ones((2, 2), dtype=jnp.float32)))\n",
    "print()\n",
    "\n",
    "print(\"init2\")\n",
    "print(nn.init(lambda x: MLP2()(x), jax.random.PRNGKey(0), jnp.ones((2, 2), dtype=jnp.float32)))\n",
    "print()\n",
    "\n"
   ]
  },
  {
   "cell_type": "code",
   "execution_count": null,
   "metadata": {},
   "outputs": [],
   "source": []
  }
 ],
 "metadata": {
  "kernelspec": {
   "display_name": "Python 3",
   "language": "python",
   "name": "python3"
  },
  "language_info": {
   "codemirror_mode": {
    "name": "ipython",
    "version": 3
   },
   "file_extension": ".py",
   "mimetype": "text/x-python",
   "name": "python",
   "nbconvert_exporter": "python",
   "pygments_lexer": "ipython3",
   "version": "3.7.7"
  }
 },
 "nbformat": 4,
 "nbformat_minor": 4
}
